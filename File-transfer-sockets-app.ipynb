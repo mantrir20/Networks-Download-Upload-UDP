{
 "cells": [
  {
   "cell_type": "markdown",
   "metadata": {},
   "source": [
    "## Application\n",
    "#### Build Application that takes input from user for upload/download and filename\n",
    "#### Call the protocol with this filename\n",
    "#### Protocol will take filename and i/o as input and then handle the send/receive\n",
    "#### Protocol will save the file that has been downloaded\n",
    "#### In case of upload just return 1 and -1 for complete and error. May introduce retries.\n",
    "#### Application displays completed or error message\n",
    "#### Retry or wait for new input"
   ]
  },
  {
   "cell_type": "code",
   "execution_count": 27,
   "metadata": {},
   "outputs": [],
   "source": [
    "import tkinter as tk\n",
    "from File-transfer-sockets-protocol-client import sender\n",
    "from File-transfer-sockets-protocol-client import recvr\n",
    "from tkinter.filedialog import askdirectory\n",
    "from PIL import Image, ImageTk\n",
    "import time\n",
    "import os \n",
    "import sys\n",
    "\n",
    "directory \n",
    "upload = 0\n",
    "# GUI\n",
    "HEIGHT = 600\n",
    "WIDTH = 600"
   ]
  },
  {
   "cell_type": "code",
   "execution_count": 28,
   "metadata": {},
   "outputs": [
    {
     "name": "stdout",
     "output_type": "stream",
     "text": [
      "aa\n"
     ]
    }
   ],
   "source": [
    "def upload_inp(dir):\n",
    "    global directory\n",
    "    directory = dir\n",
    "    global upload\n",
    "    upload = 1\n",
    "    while True: \n",
    "        if directory == '9' :\n",
    "            label['text'] = \"Exited.\"\n",
    "            root.destroy()\n",
    "            return\n",
    "        elif os.path.isdir(directory):\n",
    "            label['text'] = f\"Uploading {directory}. Please wait.\"\n",
    "            break\n",
    "        else :\n",
    "            label['text'] = \"Wrong directory. Please check or Press 9 to exit.\"\n",
    "            return\n",
    "    print(dir)\n",
    "    start_time = time.time()\n",
    "    upload(dir)\n",
    "    print(\"Time taken = \" + start_time-time.time())\n",
    "    \n",
    "def download_inp(query):\n",
    "    # label['text'] = f \"Your query is {query}.\"\n",
    "    # begin querying\n",
    "    if len(query) == 0 or query == \"9\" :\n",
    "        label['text'] = \"Goodbye. It's been real.\"\n",
    "        root.after(3000,root.destroy())\n",
    "    start_time = time.time()\n",
    "    print(query)\n",
    "    download(query)\n",
    "    print(\"Time taken = \" + start_time-time.time())\n",
    "\n",
    "def upload(file):\n",
    "    \n",
    "\n",
    "def download(file):\n",
    "\n",
    "root = tk.Tk()\n",
    "canvas = tk.Canvas(root, height=HEIGHT, width=WIDTH)\n",
    "canvas.pack()\n",
    "\n",
    "imagex = Image.open('apples.jpg')\n",
    "photo = ImageTk.PhotoImage(imagex,master=root)\n",
    "background_label = tk.Label(root, image=photo)\n",
    "background_label.image = photo\n",
    "background_label.place(relwidth=1, relheight=1)\n",
    "\n",
    "frame = tk.Frame(root, bg='#C0C0C0', bd=5)\n",
    "frame.place(relx=0.5, rely=0.1, relwidth=0.75, relheight=0.085, anchor='n')\n",
    "\n",
    "entry = tk.Entry(frame, font=40)\n",
    "entry.place(relwidth=0.65, relheight=0.8)\n",
    "\n",
    "button = tk.Button(frame, text=\"File to upload\", font=30, command=lambda: upload_inp(entry.get()))\n",
    "button.place(relx=0.7, relheight=0.8, relwidth=0.3)\n",
    "\n",
    "frame2 = tk.Frame(root, bg='#C0C0C0', bd=5)\n",
    "frame2.place(relx=0.5, rely=0.3, relwidth=0.75, relheight=0.085, anchor='n') \n",
    "\n",
    "entry2 = tk.Entry(frame2, font=40)\n",
    "entry2.place(relwidth=0.65, relheight=0.8)\n",
    "\n",
    "button2 = tk.Button(frame2, text=\"File to download\", font=30, command=lambda: download_inp(entry2.get()))\n",
    "button2.place(relx=0.7, relheight=0.8, relwidth=0.3)\n",
    "\n",
    "lower_frame = tk.Frame(root, bg='#4F2412', bd=10)\n",
    "lower_frame.place(relx=0.5, rely=0.45, relwidth=0.75, relheight=0.5, anchor='n')\n",
    "\n",
    "label = tk.Label(lower_frame)\n",
    "label.place(relwidth=1, relheight=1)\n",
    "\n",
    "root.mainloop()"
   ]
  },
  {
   "cell_type": "code",
   "execution_count": null,
   "metadata": {},
   "outputs": [],
   "source": [
    "\n",
    "    \n",
    "    "
   ]
  }
 ],
 "metadata": {
  "kernelspec": {
   "display_name": "Python 3",
   "language": "python",
   "name": "python3"
  },
  "language_info": {
   "codemirror_mode": {
    "name": "ipython",
    "version": 3
   },
   "file_extension": ".py",
   "mimetype": "text/x-python",
   "name": "python",
   "nbconvert_exporter": "python",
   "pygments_lexer": "ipython3",
   "version": "3.7.3"
  }
 },
 "nbformat": 4,
 "nbformat_minor": 2
}
